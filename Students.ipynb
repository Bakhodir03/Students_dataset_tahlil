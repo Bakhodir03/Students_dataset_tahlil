{
  "nbformat": 4,
  "nbformat_minor": 0,
  "metadata": {
    "colab": {
      "private_outputs": true,
      "provenance": [],
      "authorship_tag": "ABX9TyOcwXjzqW2aWWZeaJBYSAwv",
      "include_colab_link": true
    },
    "kernelspec": {
      "name": "python3",
      "display_name": "Python 3"
    },
    "language_info": {
      "name": "python"
    }
  },
  "cells": [
    {
      "cell_type": "markdown",
      "metadata": {
        "id": "view-in-github",
        "colab_type": "text"
      },
      "source": [
        "<a href=\"https://colab.research.google.com/github/Bakhodir03/Students_dataset_tahlil/blob/main/Students.ipynb\" target=\"_parent\"><img src=\"https://colab.research.google.com/assets/colab-badge.svg\" alt=\"Open In Colab\"/></a>"
      ]
    },
    {
      "cell_type": "code",
      "execution_count": null,
      "metadata": {
        "id": "SmAI28fp2jXY"
      },
      "outputs": [],
      "source": [
        "import pandas as pd\n",
        "import numpy as np\n",
        "import matplotlib.pyplot as plt\n",
        "import seaborn as sns\n",
        "\n",
        "df = pd.read_csv('/content/students.csv')\n",
        "\n",
        "\n",
        "def Info():\n",
        "  return df.info()\n",
        "def Head():\n",
        "    return print(df.head(10))\n",
        "\n",
        "def Columns():\n",
        "    return print(f\"ustunlar nomlari:->\\n{df.columns}\")\n",
        "\n",
        "def Shape():\n",
        "    return df.shape\n"
      ]
    },
    {
      "cell_type": "code",
      "source": [
        "def Pie():\n",
        "    gender_counts = df['gender'].value_counts()\n",
        "    plt.figure(figsize=(6, 6))\n",
        "    plt.pie(x=gender_counts,colors=sns.color_palette('bright'), labels=gender_counts.index,  autopct=\"%1.2f%%\",startangle=140)\n",
        "    plt.title(\"Gender diversification\", fontsize=16)\n",
        "    plt.axis(\"equal\")\n",
        "    plt.show()\n"
      ],
      "metadata": {
        "id": "y1p0EtV4_c9W"
      },
      "execution_count": null,
      "outputs": []
    },
    {
      "cell_type": "code",
      "source": [
        "def Age():\n",
        "    age = df[\"age\"]\n",
        "    plt.figure(figsize=(5,5))\n",
        "    plt.hist(x=age,bins=40,color='red',edgecolor='black')\n",
        "    plt.title(\"Age distribution\")\n",
        "    plt.ylabel(\"Number of students\")\n",
        "    plt.grid(True)\n",
        "    plt.show()\n"
      ],
      "metadata": {
        "id": "t2YkJV1B_fw7"
      },
      "execution_count": null,
      "outputs": []
    },
    {
      "cell_type": "code",
      "source": [
        "def Age_pie():\n",
        "    age=df[\"age\"].value_counts()\n",
        "    plt.figure(figsize=(7,7))\n",
        "    plt.pie(x=age,colors=sns.color_palette('bright'),labels=age.index,autopct=\"%1.2f%%\",startangle=140)\n",
        "    plt.title(\"Age distribution\")\n",
        "    plt.xlabel(\"NUmbe of students\")\n",
        "    plt.axis('equal')\n",
        "    plt.show()\n",
        "\n"
      ],
      "metadata": {
        "id": "FqJn1aUU_lJ3"
      },
      "execution_count": null,
      "outputs": []
    },
    {
      "cell_type": "code",
      "source": [
        "def Parental_edication():\n",
        "    parental_edication=df['parental_education_level'].value_counts()\n",
        "    plt.figure(figsize=(7,7))\n",
        "    plt.pie(x=parental_edication ,colors=sns.color_palette('bright6'),labels=parental_edication.index,autopct=\"%1.2f%%\", explode=[0.2,0.2,0.2] )\n",
        "    plt.title(\"Parental edication level\")\n",
        "    plt.xlabel(\"Level\")\n",
        "    plt.axis('equal')\n",
        "    plt.show()\n"
      ],
      "metadata": {
        "id": "9IZ74ygE_oQE"
      },
      "execution_count": null,
      "outputs": []
    },
    {
      "cell_type": "code",
      "source": [
        "def Extracurricular_participation():\n",
        "    extracurricular_participation=df['extracurricular_participation'].value_counts()\n",
        "    plt.figure(figsize=(7,7))\n",
        "    plt.pie(x=extracurricular_participation ,colors=sns.color_palette('bright6'),labels=extracurricular_participation.index,autopct=\"%1.2f%%\", explode=[.1,0]  )\n",
        "    plt.title(\"extracurricular participation\")\n",
        "    plt.xlabel(\"YES & NO\")\n",
        "    plt.axis('equal')\n",
        "    plt.show()\n"
      ],
      "metadata": {
        "id": "SkSG_NvS_rfU"
      },
      "execution_count": null,
      "outputs": []
    },
    {
      "cell_type": "code",
      "source": [
        "# Exam score ga qaysi omillar ta'sir qilayotgani\n",
        "\n",
        "def  Impact_of_attendance():\n",
        "    plt.figure(figsize=(7,7))\n",
        "    sns.scatterplot(data = df, x='study_hours_per_day', y='exam_score', hue='gender', palette='viridis',\n",
        "                alpha=0.7 )\n",
        "    plt.title(\"Attendance Percentage & Exam Score\", fontsize=14)\n",
        "    plt.xlabel('Study hours per day', fontsize=12)\n",
        "    plt.ylabel('Exam Score', fontsize=12)\n",
        "    plt.tight_layout()\n",
        "    plt.show()\n"
      ],
      "metadata": {
        "id": "mS-Bfj3M_t-V"
      },
      "execution_count": null,
      "outputs": []
    },
    {
      "cell_type": "code",
      "source": [
        "def  Part_time_job_exam_score():\n",
        "    plt.figure(figsize=(7,7))\n",
        "    sns.scatterplot(data = df, x='part_time_job', y='exam_score', hue='gender', palette='viridis',\n",
        "                alpha=0.7 )\n",
        "    plt.title(\"Attendance Percentage & Exam Score\", fontsize=14)\n",
        "    plt.xlabel('Study hours per day', fontsize=12)\n",
        "    plt.ylabel('Exam Score', fontsize=12)\n",
        "    plt.tight_layout()\n",
        "    plt.show()"
      ],
      "metadata": {
        "id": "UUjzSqY9_xCn"
      },
      "execution_count": null,
      "outputs": []
    },
    {
      "cell_type": "code",
      "source": [
        "def Diet_quality_exam_score():\n",
        "    plt.figure(figsize=(10, 6))\n",
        "    sns.histplot(data=df, x='exam_score', hue='diet_quality', kde=True, multiple='stack', palette='Set2')\n",
        "    plt.title(\"Exam Score Distribution by Diet Quality\")\n",
        "    plt.xlabel(\"Exam Score\")\n",
        "    plt.ylabel(\"Count\")\n",
        "    plt.grid(True)\n",
        "    plt.tight_layout()\n",
        "    plt.show()"
      ],
      "metadata": {
        "id": "N_hcweXo_zul"
      },
      "execution_count": null,
      "outputs": []
    },
    {
      "cell_type": "code",
      "source": [
        "def Internet_quality():\n",
        "    plt.figure(figsize=(7,8))\n",
        "    sns.histplot(data=df,x='exam_score',hue='internet_quality',kde=True,bins=50,multiple='stack',palette='Set2')\n",
        "    plt.title(\"Internet quality &Exam score\")\n",
        "    plt.xlabel(\"Exam Score\")\n",
        "    plt.ylabel(\"Number of Students\")\n",
        "    plt.grid(True)\n",
        "    plt.tight_layout()\n",
        "    plt.show()"
      ],
      "metadata": {
        "id": "90hCu8wc_5TH"
      },
      "execution_count": null,
      "outputs": []
    },
    {
      "cell_type": "code",
      "source": [],
      "metadata": {
        "id": "iScbbXPJhyRv"
      },
      "execution_count": null,
      "outputs": []
    }
  ]
}